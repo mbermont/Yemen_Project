{
 "cells": [
  {
   "cell_type": "code",
   "execution_count": 1,
   "metadata": {},
   "outputs": [],
   "source": [
    "import pandas as pd\n",
    "import numpy as np\n",
    "import matplotlib.pyplot as plt\n",
    "\n",
    "from sklearn.model_selection import train_test_split\n",
    "from sklearn.preprocessing import StandardScaler\n",
    "\n",
    "from tensorflow.keras import utils\n",
    "from tensorflow.keras.utils import to_categorical\n",
    "from tensorflow.keras.models import Sequential\n",
    "from tensorflow.keras.layers import Dense\n",
    "\n",
    "%matplotlib inline \n",
    "plt.style.use('fivethirtyeight')"
   ]
  },
  {
   "cell_type": "markdown",
   "metadata": {},
   "source": [
    "## Ended up not using this due to poor model performance \n",
    "\n",
    "Further explanation at the end of notebook."
   ]
  },
  {
   "cell_type": "markdown",
   "metadata": {},
   "source": [
    "### Read in Data"
   ]
  },
  {
   "cell_type": "code",
   "execution_count": 2,
   "metadata": {},
   "outputs": [],
   "source": [
    "df = pd.read_csv('../data/clean_df.csv')"
   ]
  },
  {
   "cell_type": "code",
   "execution_count": 3,
   "metadata": {},
   "outputs": [
    {
     "data": {
      "text/html": [
       "<div>\n",
       "<style scoped>\n",
       "    .dataframe tbody tr th:only-of-type {\n",
       "        vertical-align: middle;\n",
       "    }\n",
       "\n",
       "    .dataframe tbody tr th {\n",
       "        vertical-align: top;\n",
       "    }\n",
       "\n",
       "    .dataframe thead th {\n",
       "        text-align: right;\n",
       "    }\n",
       "</style>\n",
       "<table border=\"1\" class=\"dataframe\">\n",
       "  <thead>\n",
       "    <tr style=\"text-align: right;\">\n",
       "      <th></th>\n",
       "      <th>date</th>\n",
       "      <th>incident_id</th>\n",
       "      <th>governorate</th>\n",
       "      <th>district</th>\n",
       "      <th>area</th>\n",
       "      <th>target</th>\n",
       "      <th>main_category</th>\n",
       "      <th>sub_category</th>\n",
       "      <th>min_air_raids</th>\n",
       "      <th>max_air_raids</th>\n",
       "      <th>civilian_casualties</th>\n",
       "      <th>fatalities</th>\n",
       "      <th>woman_fatalities</th>\n",
       "      <th>child_fatalities</th>\n",
       "      <th>injured</th>\n",
       "      <th>woman_injured</th>\n",
       "      <th>child_injured</th>\n",
       "      <th>confirmed_time</th>\n",
       "      <th>time_of_day</th>\n",
       "    </tr>\n",
       "  </thead>\n",
       "  <tbody>\n",
       "    <tr>\n",
       "      <th>0</th>\n",
       "      <td>2015-03-26</td>\n",
       "      <td>1</td>\n",
       "      <td>Sanaa</td>\n",
       "      <td>bani al-harith</td>\n",
       "      <td>Al-Rahabah</td>\n",
       "      <td>Al-Daylami Airbase</td>\n",
       "      <td>military_security_target</td>\n",
       "      <td>military site</td>\n",
       "      <td>1</td>\n",
       "      <td>2.0</td>\n",
       "      <td>0</td>\n",
       "      <td>0</td>\n",
       "      <td>0</td>\n",
       "      <td>0</td>\n",
       "      <td>0</td>\n",
       "      <td>0</td>\n",
       "      <td>0.0</td>\n",
       "      <td>2</td>\n",
       "      <td>morning</td>\n",
       "    </tr>\n",
       "    <tr>\n",
       "      <th>1</th>\n",
       "      <td>2015-03-26</td>\n",
       "      <td>2</td>\n",
       "      <td>Sanaa</td>\n",
       "      <td>bani al-harith</td>\n",
       "      <td>Airport</td>\n",
       "      <td>Sana'a International Airport</td>\n",
       "      <td>infrastructure</td>\n",
       "      <td>transport</td>\n",
       "      <td>1</td>\n",
       "      <td>2.0</td>\n",
       "      <td>0</td>\n",
       "      <td>0</td>\n",
       "      <td>0</td>\n",
       "      <td>0</td>\n",
       "      <td>0</td>\n",
       "      <td>0</td>\n",
       "      <td>0.0</td>\n",
       "      <td>2</td>\n",
       "      <td>morning</td>\n",
       "    </tr>\n",
       "    <tr>\n",
       "      <th>2</th>\n",
       "      <td>2015-03-26</td>\n",
       "      <td>3</td>\n",
       "      <td>Sanaa</td>\n",
       "      <td>bani al-harith</td>\n",
       "      <td>Al-Sonblah Neighbourhood</td>\n",
       "      <td>Residential Area</td>\n",
       "      <td>civilian</td>\n",
       "      <td>residential area</td>\n",
       "      <td>1</td>\n",
       "      <td>2.0</td>\n",
       "      <td>29</td>\n",
       "      <td>21</td>\n",
       "      <td>3</td>\n",
       "      <td>14</td>\n",
       "      <td>8</td>\n",
       "      <td>0</td>\n",
       "      <td>7.0</td>\n",
       "      <td>2</td>\n",
       "      <td>morning</td>\n",
       "    </tr>\n",
       "    <tr>\n",
       "      <th>3</th>\n",
       "      <td>2015-03-26</td>\n",
       "      <td>4</td>\n",
       "      <td>Sanaa</td>\n",
       "      <td>al-sab'ein</td>\n",
       "      <td>Al-Nahdain</td>\n",
       "      <td>Presidential Palace</td>\n",
       "      <td>military_security_target</td>\n",
       "      <td>military site</td>\n",
       "      <td>1</td>\n",
       "      <td>2.0</td>\n",
       "      <td>0</td>\n",
       "      <td>0</td>\n",
       "      <td>0</td>\n",
       "      <td>0</td>\n",
       "      <td>0</td>\n",
       "      <td>0</td>\n",
       "      <td>0.0</td>\n",
       "      <td>3</td>\n",
       "      <td>morning</td>\n",
       "    </tr>\n",
       "    <tr>\n",
       "      <th>4</th>\n",
       "      <td>2015-03-26</td>\n",
       "      <td>5</td>\n",
       "      <td>Sanaa</td>\n",
       "      <td>al-thawrah</td>\n",
       "      <td>Al-Nahdhah</td>\n",
       "      <td>Former 1st Armoured Division</td>\n",
       "      <td>military_security_target</td>\n",
       "      <td>military site</td>\n",
       "      <td>1</td>\n",
       "      <td>2.0</td>\n",
       "      <td>0</td>\n",
       "      <td>0</td>\n",
       "      <td>0</td>\n",
       "      <td>0</td>\n",
       "      <td>0</td>\n",
       "      <td>0</td>\n",
       "      <td>0.0</td>\n",
       "      <td>3</td>\n",
       "      <td>morning</td>\n",
       "    </tr>\n",
       "  </tbody>\n",
       "</table>\n",
       "</div>"
      ],
      "text/plain": [
       "         date  incident_id governorate        district  \\\n",
       "0  2015-03-26            1       Sanaa  bani al-harith   \n",
       "1  2015-03-26            2       Sanaa  bani al-harith   \n",
       "2  2015-03-26            3       Sanaa  bani al-harith   \n",
       "3  2015-03-26            4       Sanaa      al-sab'ein   \n",
       "4  2015-03-26            5       Sanaa      al-thawrah   \n",
       "\n",
       "                       area                        target  \\\n",
       "0                Al-Rahabah            Al-Daylami Airbase   \n",
       "1                   Airport  Sana'a International Airport   \n",
       "2  Al-Sonblah Neighbourhood              Residential Area   \n",
       "3                Al-Nahdain           Presidential Palace   \n",
       "4                Al-Nahdhah  Former 1st Armoured Division   \n",
       "\n",
       "              main_category      sub_category  min_air_raids  max_air_raids  \\\n",
       "0  military_security_target     military site              1            2.0   \n",
       "1            infrastructure         transport              1            2.0   \n",
       "2                  civilian  residential area              1            2.0   \n",
       "3  military_security_target     military site              1            2.0   \n",
       "4  military_security_target     military site              1            2.0   \n",
       "\n",
       "   civilian_casualties  fatalities  woman_fatalities  child_fatalities  \\\n",
       "0                    0           0                 0                 0   \n",
       "1                    0           0                 0                 0   \n",
       "2                   29          21                 3                14   \n",
       "3                    0           0                 0                 0   \n",
       "4                    0           0                 0                 0   \n",
       "\n",
       "   injured  woman_injured  child_injured confirmed_time time_of_day  \n",
       "0        0              0            0.0              2     morning  \n",
       "1        0              0            0.0              2     morning  \n",
       "2        8              0            7.0              2     morning  \n",
       "3        0              0            0.0              3     morning  \n",
       "4        0              0            0.0              3     morning  "
      ]
     },
     "execution_count": 3,
     "metadata": {},
     "output_type": "execute_result"
    }
   ],
   "source": [
    "df.head()"
   ]
  },
  {
   "cell_type": "markdown",
   "metadata": {},
   "source": [
    "## Resetting index to datetime index"
   ]
  },
  {
   "cell_type": "code",
   "execution_count": 4,
   "metadata": {},
   "outputs": [],
   "source": [
    "df.set_index('date', inplace=True)\n",
    "df.index = pd.to_datetime(df.index)"
   ]
  },
  {
   "cell_type": "code",
   "execution_count": 5,
   "metadata": {},
   "outputs": [],
   "source": [
    "df = pd.get_dummies(df, columns=['main_category', 'sub_category', 'time_of_day', 'confirmed_time'])"
   ]
  },
  {
   "cell_type": "markdown",
   "metadata": {},
   "source": [
    "## Creating numerical category column \"label\" for values in governorate column"
   ]
  },
  {
   "cell_type": "code",
   "execution_count": 6,
   "metadata": {},
   "outputs": [
    {
     "data": {
      "text/plain": [
       "22"
      ]
     },
     "execution_count": 6,
     "metadata": {},
     "output_type": "execute_result"
    }
   ],
   "source": [
    "len(df['governorate'].unique())"
   ]
  },
  {
   "cell_type": "code",
   "execution_count": 7,
   "metadata": {},
   "outputs": [],
   "source": [
    "df['label'] = pd.Categorical(df['governorate'])"
   ]
  },
  {
   "cell_type": "code",
   "execution_count": 8,
   "metadata": {},
   "outputs": [],
   "source": [
    "df['label'] = df['label'].cat.codes"
   ]
  },
  {
   "cell_type": "code",
   "execution_count": 9,
   "metadata": {},
   "outputs": [
    {
     "data": {
      "text/plain": [
       "date\n",
       "2015-03-26    18\n",
       "2015-03-26    18\n",
       "2015-03-26    18\n",
       "2015-03-26    18\n",
       "2015-03-26    18\n",
       "              ..\n",
       "2020-12-31    18\n",
       "2020-12-31    18\n",
       "2020-12-31    18\n",
       "2020-12-31    18\n",
       "2020-12-31    14\n",
       "Name: label, Length: 22485, dtype: int8"
      ]
     },
     "execution_count": 9,
     "metadata": {},
     "output_type": "execute_result"
    }
   ],
   "source": [
    "df['label']"
   ]
  },
  {
   "cell_type": "markdown",
   "metadata": {},
   "source": [
    "## Setting up/scaling training/testing data "
   ]
  },
  {
   "cell_type": "code",
   "execution_count": 10,
   "metadata": {},
   "outputs": [],
   "source": [
    "X = df.drop(columns=['area', 'target', 'governorate', 'district', 'label'])\n",
    "y = df['label']"
   ]
  },
  {
   "cell_type": "code",
   "execution_count": 11,
   "metadata": {},
   "outputs": [],
   "source": [
    "X_train, X_test, y_train, y_test = train_test_split(X, y, random_state=6, shuffle=False)"
   ]
  },
  {
   "cell_type": "code",
   "execution_count": 12,
   "metadata": {},
   "outputs": [],
   "source": [
    "ss = StandardScaler()\n",
    "X_train_ss = ss.fit_transform(X_train)\n",
    "X_test_ss = ss.transform(X_test)"
   ]
  },
  {
   "cell_type": "markdown",
   "metadata": {},
   "source": [
    "## Converting y to one hot encoded columns for classes"
   ]
  },
  {
   "cell_type": "code",
   "execution_count": 13,
   "metadata": {},
   "outputs": [],
   "source": [
    "y_train = to_categorical(y_train, num_classes=22) \n",
    "y_test = to_categorical(y_test, num_classes=22)"
   ]
  },
  {
   "cell_type": "markdown",
   "metadata": {},
   "source": [
    "## Setting up the model to predict governorate"
   ]
  },
  {
   "cell_type": "code",
   "execution_count": 14,
   "metadata": {},
   "outputs": [],
   "source": [
    "input_shape = X_train_ss[0].shape"
   ]
  },
  {
   "cell_type": "code",
   "execution_count": 15,
   "metadata": {},
   "outputs": [
    {
     "name": "stdout",
     "output_type": "stream",
     "text": [
      "Epoch 1/100\n",
      "33/33 [==============================] - 2s 32ms/step - loss: 2.8146 - acc: 0.1723 - val_loss: 2.3565 - val_acc: 0.2930\n",
      "Epoch 2/100\n",
      "33/33 [==============================] - 0s 6ms/step - loss: 2.1903 - acc: 0.3182 - val_loss: 2.2894 - val_acc: 0.2981\n",
      "Epoch 3/100\n",
      "33/33 [==============================] - 0s 6ms/step - loss: 2.0843 - acc: 0.3391 - val_loss: 2.3302 - val_acc: 0.2992\n",
      "Epoch 4/100\n",
      "33/33 [==============================] - 0s 6ms/step - loss: 2.0211 - acc: 0.3569 - val_loss: 2.3667 - val_acc: 0.3042\n",
      "Epoch 5/100\n",
      "33/33 [==============================] - 0s 6ms/step - loss: 1.9964 - acc: 0.3605 - val_loss: 2.4158 - val_acc: 0.3001\n",
      "Epoch 6/100\n",
      "33/33 [==============================] - 0s 7ms/step - loss: 1.9548 - acc: 0.3736 - val_loss: 2.4045 - val_acc: 0.2832\n",
      "Epoch 7/100\n",
      "33/33 [==============================] - 0s 6ms/step - loss: 1.9467 - acc: 0.3743 - val_loss: 2.4091 - val_acc: 0.2882\n",
      "Epoch 8/100\n",
      "33/33 [==============================] - 0s 6ms/step - loss: 1.9272 - acc: 0.3835 - val_loss: 2.4605 - val_acc: 0.2985\n",
      "Epoch 9/100\n",
      "33/33 [==============================] - 0s 6ms/step - loss: 1.9051 - acc: 0.3830 - val_loss: 2.5627 - val_acc: 0.2999\n",
      "Epoch 10/100\n",
      "33/33 [==============================] - 0s 7ms/step - loss: 1.9006 - acc: 0.3910 - val_loss: 2.5797 - val_acc: 0.3036\n",
      "Epoch 11/100\n",
      "33/33 [==============================] - 0s 6ms/step - loss: 1.8901 - acc: 0.3896 - val_loss: 2.5371 - val_acc: 0.3051\n",
      "Epoch 12/100\n",
      "33/33 [==============================] - 0s 6ms/step - loss: 1.8654 - acc: 0.3937 - val_loss: 2.5519 - val_acc: 0.2976\n",
      "Epoch 13/100\n",
      "33/33 [==============================] - 0s 7ms/step - loss: 1.8577 - acc: 0.4010 - val_loss: 2.5719 - val_acc: 0.3036\n",
      "Epoch 14/100\n",
      "33/33 [==============================] - 0s 7ms/step - loss: 1.8652 - acc: 0.3973 - val_loss: 2.5732 - val_acc: 0.3141\n",
      "Epoch 15/100\n",
      "33/33 [==============================] - 0s 6ms/step - loss: 1.8315 - acc: 0.4074 - val_loss: 2.5925 - val_acc: 0.2970\n",
      "Epoch 16/100\n",
      "33/33 [==============================] - 0s 6ms/step - loss: 1.8214 - acc: 0.4061 - val_loss: 2.5794 - val_acc: 0.2974\n",
      "Epoch 17/100\n",
      "33/33 [==============================] - 0s 7ms/step - loss: 1.8222 - acc: 0.4056 - val_loss: 2.6247 - val_acc: 0.2970\n",
      "Epoch 18/100\n",
      "33/33 [==============================] - 0s 8ms/step - loss: 1.8305 - acc: 0.4015 - val_loss: 2.6989 - val_acc: 0.3086\n",
      "Epoch 19/100\n",
      "33/33 [==============================] - 0s 8ms/step - loss: 1.7951 - acc: 0.4064 - val_loss: 2.6151 - val_acc: 0.2914\n",
      "Epoch 20/100\n",
      "33/33 [==============================] - 0s 8ms/step - loss: 1.7818 - acc: 0.4202 - val_loss: 2.6269 - val_acc: 0.3074\n",
      "Epoch 21/100\n",
      "33/33 [==============================] - 0s 8ms/step - loss: 1.7814 - acc: 0.4182 - val_loss: 2.7288 - val_acc: 0.3004\n",
      "Epoch 22/100\n",
      "33/33 [==============================] - 0s 6ms/step - loss: 1.7681 - acc: 0.4163 - val_loss: 2.6491 - val_acc: 0.3038\n",
      "Epoch 23/100\n",
      "33/33 [==============================] - 0s 6ms/step - loss: 1.7489 - acc: 0.4253 - val_loss: 2.6631 - val_acc: 0.2963\n",
      "Epoch 24/100\n",
      "33/33 [==============================] - 0s 6ms/step - loss: 1.7342 - acc: 0.4288 - val_loss: 2.6182 - val_acc: 0.2986\n",
      "Epoch 25/100\n",
      "33/33 [==============================] - 0s 6ms/step - loss: 1.7569 - acc: 0.4219 - val_loss: 2.7376 - val_acc: 0.3065\n",
      "Epoch 26/100\n",
      "33/33 [==============================] - 0s 6ms/step - loss: 1.7438 - acc: 0.4242 - val_loss: 2.6651 - val_acc: 0.2874\n",
      "Epoch 27/100\n",
      "33/33 [==============================] - 0s 6ms/step - loss: 1.7138 - acc: 0.4395 - val_loss: 2.6912 - val_acc: 0.2889\n",
      "Epoch 28/100\n",
      "33/33 [==============================] - 0s 6ms/step - loss: 1.7138 - acc: 0.4368 - val_loss: 2.7785 - val_acc: 0.3058\n",
      "Epoch 29/100\n",
      "33/33 [==============================] - 0s 6ms/step - loss: 1.7214 - acc: 0.4329 - val_loss: 2.7570 - val_acc: 0.3022\n",
      "Epoch 30/100\n",
      "33/33 [==============================] - 0s 6ms/step - loss: 1.6949 - acc: 0.4444 - val_loss: 2.7236 - val_acc: 0.3075\n",
      "Epoch 31/100\n",
      "33/33 [==============================] - 0s 6ms/step - loss: 1.6983 - acc: 0.4427 - val_loss: 2.7900 - val_acc: 0.2931\n",
      "Epoch 32/100\n",
      "33/33 [==============================] - 0s 6ms/step - loss: 1.6736 - acc: 0.4468 - val_loss: 2.8113 - val_acc: 0.3004\n",
      "Epoch 33/100\n",
      "33/33 [==============================] - 0s 6ms/step - loss: 1.6758 - acc: 0.4429 - val_loss: 2.8331 - val_acc: 0.2992\n",
      "Epoch 34/100\n",
      "33/33 [==============================] - 0s 6ms/step - loss: 1.6808 - acc: 0.4460 - val_loss: 2.7558 - val_acc: 0.2931\n",
      "Epoch 35/100\n",
      "33/33 [==============================] - 0s 7ms/step - loss: 1.6642 - acc: 0.4522 - val_loss: 2.9236 - val_acc: 0.3026\n",
      "Epoch 36/100\n",
      "33/33 [==============================] - 0s 6ms/step - loss: 1.6522 - acc: 0.4550 - val_loss: 2.8092 - val_acc: 0.3035\n",
      "Epoch 37/100\n",
      "33/33 [==============================] - 0s 6ms/step - loss: 1.6276 - acc: 0.4598 - val_loss: 2.9473 - val_acc: 0.3168\n",
      "Epoch 38/100\n",
      "33/33 [==============================] - 0s 6ms/step - loss: 1.6367 - acc: 0.4560 - val_loss: 2.7505 - val_acc: 0.2908\n",
      "Epoch 39/100\n",
      "33/33 [==============================] - 0s 6ms/step - loss: 1.6294 - acc: 0.4574 - val_loss: 2.8563 - val_acc: 0.2896\n",
      "Epoch 40/100\n",
      "33/33 [==============================] - 0s 6ms/step - loss: 1.6312 - acc: 0.4553 - val_loss: 2.8863 - val_acc: 0.2889\n",
      "Epoch 41/100\n",
      "33/33 [==============================] - 0s 5ms/step - loss: 1.6258 - acc: 0.4597 - val_loss: 2.8618 - val_acc: 0.3020\n",
      "Epoch 42/100\n",
      "33/33 [==============================] - 0s 6ms/step - loss: 1.6053 - acc: 0.4691 - val_loss: 2.9071 - val_acc: 0.2958\n",
      "Epoch 43/100\n",
      "33/33 [==============================] - 0s 6ms/step - loss: 1.5998 - acc: 0.4660 - val_loss: 2.9493 - val_acc: 0.2986\n",
      "Epoch 44/100\n",
      "33/33 [==============================] - 0s 6ms/step - loss: 1.6064 - acc: 0.4639 - val_loss: 3.0172 - val_acc: 0.2947\n",
      "Epoch 45/100\n",
      "33/33 [==============================] - 0s 6ms/step - loss: 1.5951 - acc: 0.4677 - val_loss: 2.8534 - val_acc: 0.2876\n",
      "Epoch 46/100\n",
      "33/33 [==============================] - 0s 6ms/step - loss: 1.6077 - acc: 0.4634 - val_loss: 3.0117 - val_acc: 0.2885\n",
      "Epoch 47/100\n",
      "33/33 [==============================] - 0s 6ms/step - loss: 1.5997 - acc: 0.4645 - val_loss: 2.9965 - val_acc: 0.2947\n",
      "Epoch 48/100\n",
      "33/33 [==============================] - 0s 6ms/step - loss: 1.5911 - acc: 0.4691 - val_loss: 2.9945 - val_acc: 0.2892\n",
      "Epoch 49/100\n",
      "33/33 [==============================] - 0s 6ms/step - loss: 1.5823 - acc: 0.4695 - val_loss: 2.9016 - val_acc: 0.2871\n",
      "Epoch 50/100\n",
      "33/33 [==============================] - 0s 6ms/step - loss: 1.5679 - acc: 0.4778 - val_loss: 2.9686 - val_acc: 0.2967\n",
      "Epoch 51/100\n",
      "33/33 [==============================] - 0s 6ms/step - loss: 1.5723 - acc: 0.4700 - val_loss: 3.0279 - val_acc: 0.2834\n",
      "Epoch 52/100\n",
      "33/33 [==============================] - 0s 6ms/step - loss: 1.5640 - acc: 0.4668 - val_loss: 3.0502 - val_acc: 0.3027\n",
      "Epoch 53/100\n",
      "33/33 [==============================] - 0s 7ms/step - loss: 1.5734 - acc: 0.4749 - val_loss: 2.9816 - val_acc: 0.2846\n",
      "Epoch 54/100\n",
      "33/33 [==============================] - 0s 7ms/step - loss: 1.5575 - acc: 0.4764 - val_loss: 3.0447 - val_acc: 0.3058\n",
      "Epoch 55/100\n",
      "33/33 [==============================] - 0s 6ms/step - loss: 1.5643 - acc: 0.4746 - val_loss: 3.0911 - val_acc: 0.2832\n",
      "Epoch 56/100\n",
      "33/33 [==============================] - 0s 6ms/step - loss: 1.5455 - acc: 0.4767 - val_loss: 3.0769 - val_acc: 0.2901\n",
      "Epoch 57/100\n",
      "33/33 [==============================] - 0s 7ms/step - loss: 1.5282 - acc: 0.4864 - val_loss: 3.0625 - val_acc: 0.2919\n",
      "Epoch 58/100\n",
      "33/33 [==============================] - 0s 7ms/step - loss: 1.5402 - acc: 0.4827 - val_loss: 3.0787 - val_acc: 0.2844\n",
      "Epoch 59/100\n",
      "33/33 [==============================] - 0s 6ms/step - loss: 1.5526 - acc: 0.4747 - val_loss: 3.0791 - val_acc: 0.2894\n",
      "Epoch 60/100\n",
      "33/33 [==============================] - 0s 7ms/step - loss: 1.5340 - acc: 0.4811 - val_loss: 3.1033 - val_acc: 0.2869\n",
      "Epoch 61/100\n",
      "33/33 [==============================] - 0s 6ms/step - loss: 1.5339 - acc: 0.4811 - val_loss: 3.0902 - val_acc: 0.2956\n",
      "Epoch 62/100\n",
      "33/33 [==============================] - 0s 6ms/step - loss: 1.5092 - acc: 0.4850 - val_loss: 3.1658 - val_acc: 0.2965\n",
      "Epoch 63/100\n",
      "33/33 [==============================] - 0s 7ms/step - loss: 1.5127 - acc: 0.4861 - val_loss: 3.1413 - val_acc: 0.2759\n",
      "Epoch 64/100\n",
      "33/33 [==============================] - 0s 6ms/step - loss: 1.5218 - acc: 0.4808 - val_loss: 3.0510 - val_acc: 0.2736\n",
      "Epoch 65/100\n",
      "33/33 [==============================] - 0s 6ms/step - loss: 1.5249 - acc: 0.4871 - val_loss: 3.2133 - val_acc: 0.2757\n",
      "Epoch 66/100\n",
      "33/33 [==============================] - 0s 6ms/step - loss: 1.5055 - acc: 0.4938 - val_loss: 3.1468 - val_acc: 0.2789\n",
      "Epoch 67/100\n",
      "33/33 [==============================] - 0s 6ms/step - loss: 1.4939 - acc: 0.4919 - val_loss: 3.0871 - val_acc: 0.2672\n",
      "Epoch 68/100\n",
      "33/33 [==============================] - 0s 6ms/step - loss: 1.4884 - acc: 0.5020 - val_loss: 3.1163 - val_acc: 0.2718\n",
      "Epoch 69/100\n",
      "33/33 [==============================] - 0s 6ms/step - loss: 1.4915 - acc: 0.4921 - val_loss: 3.2793 - val_acc: 0.2761\n",
      "Epoch 70/100\n",
      "33/33 [==============================] - 0s 7ms/step - loss: 1.4850 - acc: 0.4995 - val_loss: 3.1572 - val_acc: 0.2841\n",
      "Epoch 71/100\n",
      "33/33 [==============================] - 0s 7ms/step - loss: 1.4933 - acc: 0.4958 - val_loss: 3.3112 - val_acc: 0.2780\n",
      "Epoch 72/100\n",
      "33/33 [==============================] - 0s 8ms/step - loss: 1.4831 - acc: 0.4951 - val_loss: 3.1791 - val_acc: 0.2784\n",
      "Epoch 73/100\n",
      "33/33 [==============================] - 0s 8ms/step - loss: 1.4775 - acc: 0.4940 - val_loss: 3.2373 - val_acc: 0.2762\n",
      "Epoch 74/100\n",
      "33/33 [==============================] - 0s 7ms/step - loss: 1.4600 - acc: 0.4994 - val_loss: 3.2294 - val_acc: 0.2668\n",
      "Epoch 75/100\n",
      "33/33 [==============================] - 0s 7ms/step - loss: 1.4715 - acc: 0.4951 - val_loss: 3.3581 - val_acc: 0.2898\n",
      "Epoch 76/100\n",
      "33/33 [==============================] - 0s 6ms/step - loss: 1.4652 - acc: 0.5017 - val_loss: 3.2888 - val_acc: 0.2755\n",
      "Epoch 77/100\n",
      "33/33 [==============================] - 0s 6ms/step - loss: 1.4478 - acc: 0.5048 - val_loss: 3.3976 - val_acc: 0.2880\n",
      "Epoch 78/100\n",
      "33/33 [==============================] - 0s 7ms/step - loss: 1.4544 - acc: 0.5070 - val_loss: 3.3440 - val_acc: 0.2697\n",
      "Epoch 79/100\n",
      "33/33 [==============================] - 0s 6ms/step - loss: 1.4539 - acc: 0.5041 - val_loss: 3.3720 - val_acc: 0.2796\n",
      "Epoch 80/100\n",
      "33/33 [==============================] - 0s 6ms/step - loss: 1.4484 - acc: 0.5047 - val_loss: 3.3971 - val_acc: 0.2866\n",
      "Epoch 81/100\n",
      "33/33 [==============================] - 0s 6ms/step - loss: 1.4416 - acc: 0.5120 - val_loss: 3.6585 - val_acc: 0.2869\n",
      "Epoch 82/100\n",
      "33/33 [==============================] - 0s 6ms/step - loss: 1.4519 - acc: 0.5110 - val_loss: 3.3551 - val_acc: 0.2748\n",
      "Epoch 83/100\n",
      "33/33 [==============================] - 0s 6ms/step - loss: 1.4227 - acc: 0.5176 - val_loss: 3.4614 - val_acc: 0.2771\n",
      "Epoch 84/100\n",
      "33/33 [==============================] - 0s 6ms/step - loss: 1.4349 - acc: 0.5091 - val_loss: 3.4578 - val_acc: 0.2778\n",
      "Epoch 85/100\n",
      "33/33 [==============================] - 0s 6ms/step - loss: 1.4366 - acc: 0.5084 - val_loss: 3.3058 - val_acc: 0.2778\n",
      "Epoch 86/100\n",
      "33/33 [==============================] - 0s 7ms/step - loss: 1.4232 - acc: 0.5147 - val_loss: 3.5161 - val_acc: 0.2700\n",
      "Epoch 87/100\n",
      "33/33 [==============================] - 0s 7ms/step - loss: 1.4285 - acc: 0.5183 - val_loss: 3.5683 - val_acc: 0.2880\n",
      "Epoch 88/100\n",
      "33/33 [==============================] - 0s 8ms/step - loss: 1.4206 - acc: 0.5161 - val_loss: 3.3816 - val_acc: 0.2905\n",
      "Epoch 89/100\n",
      "33/33 [==============================] - 0s 6ms/step - loss: 1.4227 - acc: 0.5131 - val_loss: 3.5969 - val_acc: 0.2721\n",
      "Epoch 90/100\n",
      "33/33 [==============================] - 0s 6ms/step - loss: 1.4149 - acc: 0.5210 - val_loss: 3.5084 - val_acc: 0.2794\n",
      "Epoch 91/100\n",
      "33/33 [==============================] - 0s 6ms/step - loss: 1.4107 - acc: 0.5127 - val_loss: 3.5556 - val_acc: 0.2823\n",
      "Epoch 92/100\n",
      "33/33 [==============================] - 0s 5ms/step - loss: 1.4037 - acc: 0.5203 - val_loss: 3.6035 - val_acc: 0.2771\n",
      "Epoch 93/100\n",
      "33/33 [==============================] - 0s 5ms/step - loss: 1.4065 - acc: 0.5202 - val_loss: 3.5397 - val_acc: 0.2668\n",
      "Epoch 94/100\n",
      "33/33 [==============================] - 0s 6ms/step - loss: 1.4136 - acc: 0.5226 - val_loss: 3.5422 - val_acc: 0.2743\n",
      "Epoch 95/100\n",
      "33/33 [==============================] - 0s 6ms/step - loss: 1.4080 - acc: 0.5141 - val_loss: 3.6652 - val_acc: 0.2721\n",
      "Epoch 96/100\n",
      "33/33 [==============================] - 0s 6ms/step - loss: 1.4078 - acc: 0.5178 - val_loss: 3.7510 - val_acc: 0.2762\n",
      "Epoch 97/100\n",
      "33/33 [==============================] - 0s 6ms/step - loss: 1.4038 - acc: 0.5227 - val_loss: 3.5671 - val_acc: 0.2666\n",
      "Epoch 98/100\n",
      "33/33 [==============================] - 0s 6ms/step - loss: 1.3918 - acc: 0.5249 - val_loss: 3.6261 - val_acc: 0.2734\n",
      "Epoch 99/100\n",
      "33/33 [==============================] - 0s 6ms/step - loss: 1.4014 - acc: 0.5179 - val_loss: 3.6618 - val_acc: 0.2682\n",
      "Epoch 100/100\n",
      "33/33 [==============================] - 0s 6ms/step - loss: 1.3783 - acc: 0.5287 - val_loss: 3.4918 - val_acc: 0.2755\n"
     ]
    }
   ],
   "source": [
    "model = Sequential()\n",
    "\n",
    "model.add(Dense(256, input_shape=input_shape, activation=\"relu\"))\n",
    "\n",
    "model.add(Dense(128, activation=\"relu\"))\n",
    "\n",
    "model.add(Dense(64, activation=\"relu\"))\n",
    "\n",
    "model.add(Dense(64, activation=\"relu\"))\n",
    "\n",
    "model.add(Dense(32, activation='relu'))\n",
    "\n",
    "model.add(Dense(22, activation='softmax')) # Using softmax for multiclass output predictions\n",
    "\n",
    "model.compile(optimizer='adam', loss='categorical_crossentropy', metrics=['acc']) \n",
    "# multiclass output = categorical crossentropy for loss function\n",
    "history = model.fit(X_train_ss, y_train, validation_data=(X_test_ss, y_test), epochs=100, batch_size = 512)"
   ]
  },
  {
   "cell_type": "markdown",
   "metadata": {},
   "source": [
    "## Plotting Loss and accuracy"
   ]
  },
  {
   "cell_type": "code",
   "execution_count": 19,
   "metadata": {},
   "outputs": [
    {
     "data": {
      "image/png": "[encoded data removed]",
      "text/plain": [
       "<Figure size 432x288 with 1 Axes>"
      ]
     },
     "metadata": {},
     "output_type": "display_data"
    }
   ],
   "source": [
    "plt.plot(history.history['loss'], label='Train loss')\n",
    "plt.plot(history.history['val_loss'], label='Test loss')\n",
    "plt.xlabel('Epochs')\n",
    "plt.ylabel('Loss')\n",
    "plt.title('Loss over number of Epochs')\n",
    "plt.legend();"
   ]
  },
  {
   "cell_type": "markdown",
   "metadata": {},
   "source": [
    "Very poor performance of ~ 3.6-3.8 for testing data, could not manipulate to get a decent result. This graph shows how\n",
    "as the loss is minimized the testing loss is almost immediately diverging from the training loss. This would indicate\n",
    "the model will not be usefull as it over fits to the training data and does not provide useful information."
   ]
  },
  {
   "cell_type": "code",
   "execution_count": 18,
   "metadata": {},
   "outputs": [
    {
     "data": {
      "image/png": "[encoded data removed]",
      "text/plain": [
       "<Figure size 432x288 with 1 Axes>"
      ]
     },
     "metadata": {},
     "output_type": "display_data"
    }
   ],
   "source": [
    "plt.plot(history.history['acc'], label='Train accuracy')\n",
    "plt.plot(history.history['val_acc'], label='Test accuracy')\n",
    "plt.xlabel('Epochs')\n",
    "plt.ylabel('Accuracy')\n",
    "plt.title('Accuracy over number of Epochs')\n",
    "plt.legend();"
   ]
  },
  {
   "cell_type": "markdown",
   "metadata": {},
   "source": [
    "Again, this model is showing how poor it is by having an accuracy score of ~.30 for testing data.  This shows how the\n",
    "trained model is accurate when presented the training data and, inaccurate when presented the testing data."
   ]
  },
  {
   "cell_type": "markdown",
   "metadata": {},
   "source": [
    "## Ended up not using this due to poor model performance "
   ]
  }
 ],
 "metadata": {
  "kernelspec": {
   "display_name": "Python 3",
   "language": "python",
   "name": "python3"
  },
  "language_info": {
   "codemirror_mode": {
    "name": "ipython",
    "version": 3
   },
   "file_extension": ".py",
   "mimetype": "text/x-python",
   "name": "python",
   "nbconvert_exporter": "python",
   "pygments_lexer": "ipython3",
   "version": "3.8.5"
  }
 },
 "nbformat": 4,
 "nbformat_minor": 4
}
