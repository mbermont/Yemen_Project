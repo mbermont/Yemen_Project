{
 "cells": [
  {
   "cell_type": "markdown",
   "metadata": {},
   "source": [
    "## Project 5 - Data Cleaning"
   ]
  },
  {
   "cell_type": "markdown",
   "metadata": {},
   "source": [
    "### Import libraries"
   ]
  },
  {
   "cell_type": "code",
   "execution_count": 1,
   "metadata": {},
   "outputs": [],
   "source": [
    "import pandas as pd\n",
    "import math\n",
    "\n",
    "pd.set_option('display.max_rows', 10)"
   ]
  },
  {
   "cell_type": "markdown",
   "metadata": {},
   "source": [
    "### Load data"
   ]
  },
  {
   "cell_type": "code",
   "execution_count": 2,
   "metadata": {},
   "outputs": [],
   "source": [
    "df = pd.read_csv('../data/raw_yemen_data.csv', encoding='cp1252')"
   ]
  },
  {
   "cell_type": "markdown",
   "metadata": {},
   "source": [
    "### Checkout null values"
   ]
  },
  {
   "cell_type": "code",
   "execution_count": 3,
   "metadata": {},
   "outputs": [
    {
     "data": {
      "text/plain": [
       "Incident ID        0\n",
       "Date               0\n",
       "Governorate        0\n",
       "District         238\n",
       "Area            3299\n",
       "               ...  \n",
       "Time of Day        0\n",
       "Unnamed: 19    22360\n",
       "Unnamed: 20    22360\n",
       "Unnamed: 21    22360\n",
       "Unnamed: 22    22436\n",
       "Length: 23, dtype: int64"
      ]
     },
     "execution_count": 3,
     "metadata": {},
     "output_type": "execute_result"
    }
   ],
   "source": [
    "df.isnull().sum()"
   ]
  },
  {
   "cell_type": "markdown",
   "metadata": {},
   "source": [
    "**Drop Columns:** \n",
    "- Unnamed: 19 \n",
    "- Unnamed: 20 \n",
    "- Unnamed: 21 \n",
    "- Unnamed: 22 \n",
    "\n",
    "These columns are mainly missing values and the information in the non-missing cells is duplicated in other columns."
   ]
  },
  {
   "cell_type": "code",
   "execution_count": 4,
   "metadata": {},
   "outputs": [],
   "source": [
    "df.drop(columns = ['Unnamed: 19', 'Unnamed: 20', 'Unnamed: 21', 'Unnamed: 22'], inplace=True)"
   ]
  },
  {
   "cell_type": "code",
   "execution_count": 5,
   "metadata": {},
   "outputs": [
    {
     "data": {
      "text/plain": [
       "5805"
      ]
     },
     "execution_count": 5,
     "metadata": {},
     "output_type": "execute_result"
    }
   ],
   "source": [
    "len(df['Area'].unique())"
   ]
  },
  {
   "cell_type": "code",
   "execution_count": 6,
   "metadata": {},
   "outputs": [],
   "source": [
    "#df = df.drop(columns=['Unnamed: 19', 'Unnamed: 20',\n",
    "#       'Unnamed: 21', 'Unnamed: 22'])"
   ]
  },
  {
   "cell_type": "code",
   "execution_count": 7,
   "metadata": {},
   "outputs": [
    {
     "data": {
      "text/plain": [
       "0      20667\n",
       "2        224\n",
       "5        212\n",
       "1        199\n",
       "3        194\n",
       "       ...  \n",
       "77         1\n",
       "101        1\n",
       "85         1\n",
       "100        1\n",
       "95         1\n",
       "Name: Civilian Casualties, Length: 89, dtype: int64"
      ]
     },
     "execution_count": 7,
     "metadata": {},
     "output_type": "execute_result"
    }
   ],
   "source": [
    "df['Civilian Casualties'].value_counts()"
   ]
  },
  {
   "cell_type": "code",
   "execution_count": 8,
   "metadata": {
    "scrolled": true
   },
   "outputs": [
    {
     "data": {
      "text/plain": [
       "Unknown                     8496\n",
       "Military_Security_Target    7385\n",
       "Civilian                    2879\n",
       "Infrastructure              1447\n",
       "Economic_infrastructure     1080\n",
       "                            ... \n",
       "international_community       13\n",
       "Political_Tribal              11\n",
       "International_community        6\n",
       "cultural_heritage              2\n",
       "International_Community        1\n",
       "Name: Main category, Length: 18, dtype: int64"
      ]
     },
     "execution_count": 8,
     "metadata": {},
     "output_type": "execute_result"
    }
   ],
   "source": [
    "df['Main category'].value_counts()"
   ]
  },
  {
   "cell_type": "markdown",
   "metadata": {},
   "source": [
    "### Clean up columns"
   ]
  },
  {
   "cell_type": "markdown",
   "metadata": {},
   "source": [
    "#### Column names"
   ]
  },
  {
   "cell_type": "code",
   "execution_count": 9,
   "metadata": {},
   "outputs": [],
   "source": [
    "# Clean up column names: Remove spaces, make lowercase, replace space with underscore\n",
    "df.columns = df.columns.str.strip().str.lower().str.replace(' ', '_').str.replace('-','_')"
   ]
  },
  {
   "cell_type": "code",
   "execution_count": 10,
   "metadata": {},
   "outputs": [
    {
     "data": {
      "text/plain": [
       "Index(['incident_id', 'date', 'governorate', 'district', 'area', 'target',\n",
       "       'main_category', 'sub_category', 'min_air_raids', 'max_air_raids',\n",
       "       'civilian_casualties', 'fatalities', 'woman_fatalities',\n",
       "       'child_fatalities', 'injured', 'woman_injured', 'child_injured',\n",
       "       'confirmed_time', 'time_of_day'],\n",
       "      dtype='object')"
      ]
     },
     "execution_count": 10,
     "metadata": {},
     "output_type": "execute_result"
    }
   ],
   "source": [
    "df.columns"
   ]
  },
  {
   "cell_type": "markdown",
   "metadata": {},
   "source": [
    "#### Column values\n",
    "\n",
    "\n",
    "date: Make index and convert to datetime"
   ]
  },
  {
   "cell_type": "code",
   "execution_count": 11,
   "metadata": {},
   "outputs": [
    {
     "data": {
      "text/plain": [
       "DatetimeIndex(['2015-03-26', '2015-03-26', '2015-03-26', '2015-03-26',\n",
       "               '2015-03-26', '2015-03-26', '2015-03-26', '2015-03-26',\n",
       "               '2015-03-26', '2015-03-26',\n",
       "               ...\n",
       "               '2020-12-29', '2020-12-30', '2020-12-30', '2020-12-30',\n",
       "               '2020-12-31', '2020-12-31', '2020-12-31', '2020-12-31',\n",
       "               '2020-12-31', '2020-12-31'],\n",
       "              dtype='datetime64[ns]', name='date', length=22485, freq=None)"
      ]
     },
     "execution_count": 11,
     "metadata": {},
     "output_type": "execute_result"
    }
   ],
   "source": [
    "\n",
    "df.set_index('date', inplace=True)\n",
    "df.index = pd.to_datetime(df.index)\n",
    "df.index\n"
   ]
  },
  {
   "cell_type": "markdown",
   "metadata": {
    "pycharm": {
     "name": "#%% md\n"
    }
   },
   "source": [
    "incident id: Check for duplicates"
   ]
  },
  {
   "cell_type": "code",
   "execution_count": 12,
   "metadata": {},
   "outputs": [
    {
     "data": {
      "text/plain": [
       "False"
      ]
     },
     "execution_count": 12,
     "metadata": {},
     "output_type": "execute_result"
    }
   ],
   "source": [
    "any([x > 1 for x in df['incident_id'].value_counts()])"
   ]
  },
  {
   "cell_type": "markdown",
   "metadata": {
    "pycharm": {
     "name": "#%% md\n"
    }
   },
   "source": [
    "governorate: Check value counts."
   ]
  },
  {
   "cell_type": "code",
   "execution_count": 13,
   "metadata": {
    "pycharm": {
     "name": "#%%\n"
    }
   },
   "outputs": [
    {
     "data": {
      "text/plain": [
       "Saada        5199\n",
       "Taiz         2661\n",
       "Sanaa        2568\n",
       "Hajja        2429\n",
       "Marib        2248\n",
       "             ... \n",
       "Raymah         12\n",
       "Hadramawt       8\n",
       "Maharah         2\n",
       "lahj            2\n",
       "Marib           2\n",
       "Name: governorate, Length: 23, dtype: int64"
      ]
     },
     "execution_count": 13,
     "metadata": {},
     "output_type": "execute_result"
    }
   ],
   "source": [
    "df['governorate'].value_counts()"
   ]
  },
  {
   "cell_type": "markdown",
   "metadata": {
    "pycharm": {
     "name": "#%% md\n"
    }
   },
   "source": [
    "Check 'Capital' - There is 'Capital' which may be 'Sanaa' or 'Aden'\n",
    "(The capital is currently disputed in Yemen, historically it is Sanaa but recently it's Aden)\n",
    "\n",
    "Resesarch on district in relation to capital\n",
    "* if distric is bani al-harith, then capital = Sanaa\n",
    "* if district is al-sab'ein, then capital = Sanaa\n",
    "* if ma'ain then Sanaa\n",
    "* if al-wahdah then Sanaa\n",
    "* if azal then Sanaa\n",
    "* shu'oub near Sanaa"
   ]
  },
  {
   "cell_type": "code",
   "execution_count": 14,
   "metadata": {},
   "outputs": [
    {
     "data": {
      "text/html": [
       "<div>\n",
       "<style scoped>\n",
       "    .dataframe tbody tr th:only-of-type {\n",
       "        vertical-align: middle;\n",
       "    }\n",
       "\n",
       "    .dataframe tbody tr th {\n",
       "        vertical-align: top;\n",
       "    }\n",
       "\n",
       "    .dataframe thead th {\n",
       "        text-align: right;\n",
       "    }\n",
       "</style>\n",
       "<table border=\"1\" class=\"dataframe\">\n",
       "  <thead>\n",
       "    <tr style=\"text-align: right;\">\n",
       "      <th></th>\n",
       "      <th>incident_id</th>\n",
       "      <th>governorate</th>\n",
       "      <th>district</th>\n",
       "      <th>area</th>\n",
       "      <th>target</th>\n",
       "      <th>main_category</th>\n",
       "      <th>sub_category</th>\n",
       "      <th>min_air_raids</th>\n",
       "      <th>max_air_raids</th>\n",
       "      <th>civilian_casualties</th>\n",
       "      <th>fatalities</th>\n",
       "      <th>woman_fatalities</th>\n",
       "      <th>child_fatalities</th>\n",
       "      <th>injured</th>\n",
       "      <th>woman_injured</th>\n",
       "      <th>child_injured</th>\n",
       "      <th>confirmed_time</th>\n",
       "      <th>time_of_day</th>\n",
       "    </tr>\n",
       "    <tr>\n",
       "      <th>date</th>\n",
       "      <th></th>\n",
       "      <th></th>\n",
       "      <th></th>\n",
       "      <th></th>\n",
       "      <th></th>\n",
       "      <th></th>\n",
       "      <th></th>\n",
       "      <th></th>\n",
       "      <th></th>\n",
       "      <th></th>\n",
       "      <th></th>\n",
       "      <th></th>\n",
       "      <th></th>\n",
       "      <th></th>\n",
       "      <th></th>\n",
       "      <th></th>\n",
       "      <th></th>\n",
       "      <th></th>\n",
       "    </tr>\n",
       "  </thead>\n",
       "  <tbody>\n",
       "    <tr>\n",
       "      <th>2015-03-26</th>\n",
       "      <td>1</td>\n",
       "      <td>Capital</td>\n",
       "      <td>Bani Al-Harith</td>\n",
       "      <td>Al-Rahabah</td>\n",
       "      <td>Al-Daylami Airbase</td>\n",
       "      <td>Military_Security_Target</td>\n",
       "      <td>Military Site</td>\n",
       "      <td>1</td>\n",
       "      <td>2</td>\n",
       "      <td>0</td>\n",
       "      <td>0</td>\n",
       "      <td>0</td>\n",
       "      <td>0</td>\n",
       "      <td>0</td>\n",
       "      <td>0</td>\n",
       "      <td>0.0</td>\n",
       "      <td>2</td>\n",
       "      <td>Early-Morning</td>\n",
       "    </tr>\n",
       "    <tr>\n",
       "      <th>2015-03-26</th>\n",
       "      <td>2</td>\n",
       "      <td>Capital</td>\n",
       "      <td>Bani Al-Harith</td>\n",
       "      <td>Airport</td>\n",
       "      <td>Sana'a International Airport</td>\n",
       "      <td>Infrastructure</td>\n",
       "      <td>Transport</td>\n",
       "      <td>1</td>\n",
       "      <td>2</td>\n",
       "      <td>0</td>\n",
       "      <td>0</td>\n",
       "      <td>0</td>\n",
       "      <td>0</td>\n",
       "      <td>0</td>\n",
       "      <td>0</td>\n",
       "      <td>0.0</td>\n",
       "      <td>2</td>\n",
       "      <td>Early-Morning</td>\n",
       "    </tr>\n",
       "    <tr>\n",
       "      <th>2015-03-26</th>\n",
       "      <td>3</td>\n",
       "      <td>Capital</td>\n",
       "      <td>Bani Al-Harith</td>\n",
       "      <td>Al-Sonblah Neighbourhood</td>\n",
       "      <td>Residential Area</td>\n",
       "      <td>Civilian</td>\n",
       "      <td>Residential Area</td>\n",
       "      <td>1</td>\n",
       "      <td>2</td>\n",
       "      <td>29</td>\n",
       "      <td>21</td>\n",
       "      <td>3</td>\n",
       "      <td>14</td>\n",
       "      <td>8</td>\n",
       "      <td>0</td>\n",
       "      <td>7.0</td>\n",
       "      <td>2</td>\n",
       "      <td>Early-Morning</td>\n",
       "    </tr>\n",
       "    <tr>\n",
       "      <th>2015-03-26</th>\n",
       "      <td>4</td>\n",
       "      <td>Capital</td>\n",
       "      <td>Al-Sab'ein</td>\n",
       "      <td>Al-Nahdain</td>\n",
       "      <td>Presidential Palace</td>\n",
       "      <td>Military_Security_Target</td>\n",
       "      <td>Military Site</td>\n",
       "      <td>1</td>\n",
       "      <td>2</td>\n",
       "      <td>0</td>\n",
       "      <td>0</td>\n",
       "      <td>0</td>\n",
       "      <td>0</td>\n",
       "      <td>0</td>\n",
       "      <td>0</td>\n",
       "      <td>0.0</td>\n",
       "      <td>3</td>\n",
       "      <td>Early-Morning</td>\n",
       "    </tr>\n",
       "    <tr>\n",
       "      <th>2015-03-26</th>\n",
       "      <td>5</td>\n",
       "      <td>Capital</td>\n",
       "      <td>Al-Thawrah</td>\n",
       "      <td>Al-Nahdhah</td>\n",
       "      <td>Former 1st Armoured Division</td>\n",
       "      <td>Military_Security_Target</td>\n",
       "      <td>Military Site</td>\n",
       "      <td>1</td>\n",
       "      <td>2</td>\n",
       "      <td>0</td>\n",
       "      <td>0</td>\n",
       "      <td>0</td>\n",
       "      <td>0</td>\n",
       "      <td>0</td>\n",
       "      <td>0</td>\n",
       "      <td>0.0</td>\n",
       "      <td>3</td>\n",
       "      <td>Early-Morning</td>\n",
       "    </tr>\n",
       "    <tr>\n",
       "      <th>...</th>\n",
       "      <td>...</td>\n",
       "      <td>...</td>\n",
       "      <td>...</td>\n",
       "      <td>...</td>\n",
       "      <td>...</td>\n",
       "      <td>...</td>\n",
       "      <td>...</td>\n",
       "      <td>...</td>\n",
       "      <td>...</td>\n",
       "      <td>...</td>\n",
       "      <td>...</td>\n",
       "      <td>...</td>\n",
       "      <td>...</td>\n",
       "      <td>...</td>\n",
       "      <td>...</td>\n",
       "      <td>...</td>\n",
       "      <td>...</td>\n",
       "      <td>...</td>\n",
       "    </tr>\n",
       "    <tr>\n",
       "      <th>2020-02-12</th>\n",
       "      <td>22368</td>\n",
       "      <td>Capital</td>\n",
       "      <td>Bani Al-Harith</td>\n",
       "      <td>Ar Rahabah</td>\n",
       "      <td>Sana'a International Airport</td>\n",
       "      <td>Infrastructure</td>\n",
       "      <td>Transport</td>\n",
       "      <td>1</td>\n",
       "      <td>2</td>\n",
       "      <td>0</td>\n",
       "      <td>0</td>\n",
       "      <td>0</td>\n",
       "      <td>0</td>\n",
       "      <td>0</td>\n",
       "      <td>0</td>\n",
       "      <td>0.0</td>\n",
       "      <td>12</td>\n",
       "      <td>Midday</td>\n",
       "    </tr>\n",
       "    <tr>\n",
       "      <th>2020-04-12</th>\n",
       "      <td>22377</td>\n",
       "      <td>Capital</td>\n",
       "      <td>Bani Al-Harith</td>\n",
       "      <td>Ar Rahabah</td>\n",
       "      <td>Sana'a International Airport</td>\n",
       "      <td>Infrastructure</td>\n",
       "      <td>Transport</td>\n",
       "      <td>1</td>\n",
       "      <td>1</td>\n",
       "      <td>0</td>\n",
       "      <td>0</td>\n",
       "      <td>0</td>\n",
       "      <td>0</td>\n",
       "      <td>0</td>\n",
       "      <td>0</td>\n",
       "      <td>0.0</td>\n",
       "      <td>16</td>\n",
       "      <td>Afternoon</td>\n",
       "    </tr>\n",
       "    <tr>\n",
       "      <th>2020-12-29</th>\n",
       "      <td>22471</td>\n",
       "      <td>Capital</td>\n",
       "      <td>Bani Al-Harith</td>\n",
       "      <td>Ar Rahabah</td>\n",
       "      <td>Sana'a International Airport</td>\n",
       "      <td>Infrastructure</td>\n",
       "      <td>Transport</td>\n",
       "      <td>1</td>\n",
       "      <td>2</td>\n",
       "      <td>0</td>\n",
       "      <td>0</td>\n",
       "      <td>0</td>\n",
       "      <td>0</td>\n",
       "      <td>0</td>\n",
       "      <td>0</td>\n",
       "      <td>0.0</td>\n",
       "      <td>13</td>\n",
       "      <td>Midday</td>\n",
       "    </tr>\n",
       "    <tr>\n",
       "      <th>2020-12-31</th>\n",
       "      <td>22481</td>\n",
       "      <td>Capital</td>\n",
       "      <td>Bani Al-Harith</td>\n",
       "      <td>Ar Rahabah</td>\n",
       "      <td>Sana'a International Airport</td>\n",
       "      <td>Infrastructure</td>\n",
       "      <td>Transport</td>\n",
       "      <td>1</td>\n",
       "      <td>1</td>\n",
       "      <td>0</td>\n",
       "      <td>0</td>\n",
       "      <td>0</td>\n",
       "      <td>0</td>\n",
       "      <td>0</td>\n",
       "      <td>0</td>\n",
       "      <td>0.0</td>\n",
       "      <td>1</td>\n",
       "      <td>Early-Morning</td>\n",
       "    </tr>\n",
       "    <tr>\n",
       "      <th>2020-12-31</th>\n",
       "      <td>22485</td>\n",
       "      <td>Capital</td>\n",
       "      <td>Bani Al-Harith</td>\n",
       "      <td>Ar Rahabah</td>\n",
       "      <td>Al-Daylami Air base</td>\n",
       "      <td>Military_Security_Target</td>\n",
       "      <td>Military site</td>\n",
       "      <td>1</td>\n",
       "      <td>1</td>\n",
       "      <td>0</td>\n",
       "      <td>0</td>\n",
       "      <td>0</td>\n",
       "      <td>0</td>\n",
       "      <td>0</td>\n",
       "      <td>0</td>\n",
       "      <td>0.0</td>\n",
       "      <td>1</td>\n",
       "      <td>Early-Morning</td>\n",
       "    </tr>\n",
       "  </tbody>\n",
       "</table>\n",
       "<p>1418 rows × 18 columns</p>\n",
       "</div>"
      ],
      "text/plain": [
       "            incident_id governorate        district                      area  \\\n",
       "date                                                                            \n",
       "2015-03-26            1     Capital  Bani Al-Harith                Al-Rahabah   \n",
       "2015-03-26            2     Capital  Bani Al-Harith                   Airport   \n",
       "2015-03-26            3     Capital  Bani Al-Harith  Al-Sonblah Neighbourhood   \n",
       "2015-03-26            4     Capital      Al-Sab'ein                Al-Nahdain   \n",
       "2015-03-26            5     Capital      Al-Thawrah                Al-Nahdhah   \n",
       "...                 ...         ...             ...                       ...   \n",
       "2020-02-12        22368     Capital  Bani Al-Harith                Ar Rahabah   \n",
       "2020-04-12        22377     Capital  Bani Al-Harith                Ar Rahabah   \n",
       "2020-12-29        22471     Capital  Bani Al-Harith                Ar Rahabah   \n",
       "2020-12-31        22481     Capital  Bani Al-Harith                Ar Rahabah   \n",
       "2020-12-31        22485     Capital  Bani Al-Harith                Ar Rahabah   \n",
       "\n",
       "                                  target             main_category  \\\n",
       "date                                                                 \n",
       "2015-03-26            Al-Daylami Airbase  Military_Security_Target   \n",
       "2015-03-26  Sana'a International Airport            Infrastructure   \n",
       "2015-03-26              Residential Area                  Civilian   \n",
       "2015-03-26           Presidential Palace  Military_Security_Target   \n",
       "2015-03-26  Former 1st Armoured Division  Military_Security_Target   \n",
       "...                                  ...                       ...   \n",
       "2020-02-12  Sana'a International Airport            Infrastructure   \n",
       "2020-04-12  Sana'a International Airport            Infrastructure   \n",
       "2020-12-29  Sana'a International Airport            Infrastructure   \n",
       "2020-12-31  Sana'a International Airport            Infrastructure   \n",
       "2020-12-31           Al-Daylami Air base  Military_Security_Target   \n",
       "\n",
       "                sub_category  min_air_raids max_air_raids  \\\n",
       "date                                                        \n",
       "2015-03-26     Military Site              1             2   \n",
       "2015-03-26         Transport              1             2   \n",
       "2015-03-26  Residential Area              1             2   \n",
       "2015-03-26     Military Site              1             2   \n",
       "2015-03-26     Military Site              1             2   \n",
       "...                      ...            ...           ...   \n",
       "2020-02-12         Transport              1             2   \n",
       "2020-04-12         Transport              1             1   \n",
       "2020-12-29         Transport              1             2   \n",
       "2020-12-31         Transport              1             1   \n",
       "2020-12-31     Military site              1             1   \n",
       "\n",
       "            civilian_casualties  fatalities  woman_fatalities  \\\n",
       "date                                                            \n",
       "2015-03-26                    0           0                 0   \n",
       "2015-03-26                    0           0                 0   \n",
       "2015-03-26                   29          21                 3   \n",
       "2015-03-26                    0           0                 0   \n",
       "2015-03-26                    0           0                 0   \n",
       "...                         ...         ...               ...   \n",
       "2020-02-12                    0           0                 0   \n",
       "2020-04-12                    0           0                 0   \n",
       "2020-12-29                    0           0                 0   \n",
       "2020-12-31                    0           0                 0   \n",
       "2020-12-31                    0           0                 0   \n",
       "\n",
       "            child_fatalities  injured  woman_injured  child_injured  \\\n",
       "date                                                                  \n",
       "2015-03-26                 0        0              0            0.0   \n",
       "2015-03-26                 0        0              0            0.0   \n",
       "2015-03-26                14        8              0            7.0   \n",
       "2015-03-26                 0        0              0            0.0   \n",
       "2015-03-26                 0        0              0            0.0   \n",
       "...                      ...      ...            ...            ...   \n",
       "2020-02-12                 0        0              0            0.0   \n",
       "2020-04-12                 0        0              0            0.0   \n",
       "2020-12-29                 0        0              0            0.0   \n",
       "2020-12-31                 0        0              0            0.0   \n",
       "2020-12-31                 0        0              0            0.0   \n",
       "\n",
       "           confirmed_time    time_of_day  \n",
       "date                                      \n",
       "2015-03-26              2  Early-Morning  \n",
       "2015-03-26              2  Early-Morning  \n",
       "2015-03-26              2  Early-Morning  \n",
       "2015-03-26              3  Early-Morning  \n",
       "2015-03-26              3  Early-Morning  \n",
       "...                   ...            ...  \n",
       "2020-02-12             12         Midday  \n",
       "2020-04-12             16      Afternoon  \n",
       "2020-12-29             13         Midday  \n",
       "2020-12-31              1  Early-Morning  \n",
       "2020-12-31              1  Early-Morning  \n",
       "\n",
       "[1418 rows x 18 columns]"
      ]
     },
     "execution_count": 14,
     "metadata": {},
     "output_type": "execute_result"
    }
   ],
   "source": [
    "df[df['governorate']== 'Capital']"
   ]
  },
  {
   "cell_type": "code",
   "execution_count": 15,
   "metadata": {},
   "outputs": [],
   "source": [
    "# Rename Capital cells to Sanaa\n",
    "df['governorate'] = df['governorate'].replace(['Capital'], 'Sanaa')"
   ]
  },
  {
   "cell_type": "markdown",
   "metadata": {
    "pycharm": {
     "name": "#%% md\n"
    }
   },
   "source": [
    "district: clean strings"
   ]
  },
  {
   "cell_type": "code",
   "execution_count": 16,
   "metadata": {
    "pycharm": {
     "name": "#%%\n"
    }
   },
   "outputs": [],
   "source": [
    "district_list = []\n",
    "for value in df['district']:\n",
    "    value = str(value).lower().strip()\n",
    "    district_list.append(value)\n",
    "\n",
    "df['district'] = district_list"
   ]
  },
  {
   "cell_type": "markdown",
   "metadata": {
    "pycharm": {
     "name": "#%% md\n"
    }
   },
   "source": [
    "area: Change null values to string 'Unknown'."
   ]
  },
  {
   "cell_type": "code",
   "execution_count": 17,
   "metadata": {
    "pycharm": {
     "name": "#%%\n"
    }
   },
   "outputs": [],
   "source": [
    "df['area'] = df['area'].fillna('Unknown')"
   ]
  },
  {
   "cell_type": "markdown",
   "metadata": {
    "pycharm": {
     "name": "#%% md\n"
    }
   },
   "source": [
    "target: Show values of Target"
   ]
  },
  {
   "cell_type": "code",
   "execution_count": 18,
   "metadata": {},
   "outputs": [
    {
     "data": {
      "text/plain": [
       "Unknown                                      8364\n",
       "Pro-Houthi forces                            2123\n",
       "Residential Area                              590\n",
       "Pro-Houthi sites                              403\n",
       "Pro-Houthi positions                          396\n",
       "                                             ... \n",
       "insurance building                              1\n",
       "14th Armoured Brigade                           1\n",
       "House ( belongs to Ali Saleh Al-Ahmar )         1\n",
       "House  (belongs to Badruldean Al-Houthi )       1\n",
       "Port road                                       1\n",
       "Name: target, Length: 2884, dtype: int64"
      ]
     },
     "execution_count": 18,
     "metadata": {},
     "output_type": "execute_result"
    }
   ],
   "source": [
    "# target\n",
    "df['target'].value_counts()\n"
   ]
  },
  {
   "cell_type": "markdown",
   "metadata": {
    "pycharm": {
     "name": "#%% md\n"
    }
   },
   "source": [
    "main_catagory:  Clean values to better display in graphs and further eda."
   ]
  },
  {
   "cell_type": "code",
   "execution_count": 19,
   "metadata": {},
   "outputs": [],
   "source": [
    "# main_category\n",
    "main_category_list = []\n",
    "for value in df['main_category']:\n",
    "    value = value.lower().strip()\n",
    "    main_category_list.append(value)\n",
    "df['main_category'] = main_category_list\n"
   ]
  },
  {
   "cell_type": "markdown",
   "metadata": {},
   "source": [
    "sub_catagory:  Clean values to better display in graphs and further eda."
   ]
  },
  {
   "cell_type": "code",
   "execution_count": 20,
   "metadata": {},
   "outputs": [],
   "source": [
    "# sub-category\n",
    "sub_category_list = []\n",
    "for value in df['sub_category']:\n",
    "    value = value.lower().strip()\n",
    "    sub_category_list.append(value)\n",
    "df['sub_category'] = sub_category_list"
   ]
  },
  {
   "cell_type": "markdown",
   "metadata": {
    "pycharm": {
     "name": "#%% md\n"
    }
   },
   "source": [
    "min air raids:  show null values"
   ]
  },
  {
   "cell_type": "code",
   "execution_count": 21,
   "metadata": {
    "pycharm": {
     "name": "#%%\n"
    }
   },
   "outputs": [
    {
     "data": {
      "text/plain": [
       "0"
      ]
     },
     "execution_count": 21,
     "metadata": {},
     "output_type": "execute_result"
    }
   ],
   "source": [
    "# min_air_raids\n",
    "df['min_air_raids'].isnull().sum()"
   ]
  },
  {
   "cell_type": "markdown",
   "metadata": {
    "pycharm": {
     "name": "#%% md\n"
    }
   },
   "source": [
    "max_air_raids: Clean values. We understood the max air raids value to be a baseline estimate by the Yemen Data Project.\n",
    "The noted that some air raids mave have had more than the number listed and marked those values with a (+) sign.  We\n",
    "removed these signs for our data and used their baseline known value for max air raids as our value. We also know that\n",
    "there are 2 null values in the data.  We are replacing those two values with the median number of airraids as to not\n",
    "lose data."
   ]
  },
  {
   "cell_type": "code",
   "execution_count": 22,
   "metadata": {
    "pycharm": {
     "name": "#%%\n"
    }
   },
   "outputs": [],
   "source": [
    "# max_air_raids\n",
    "max_air_raids = []\n",
    "for value in df['max_air_raids']:\n",
    "    if value == '2,2':  # This was an error in the csv file\n",
    "        val = 2\n",
    "    elif value != '-' and type(value) != float:\n",
    "        val = int(value.strip('+'))\n",
    "    elif type(value) == float:\n",
    "        val = value\n",
    "    else:\n",
    "        val = 0\n",
    "    max_air_raids.append(val)\n",
    "df['max_air_raids'] = max_air_raids\n",
    "df['max_air_raids'] = df['max_air_raids'].fillna(df['max_air_raids'].median())\n",
    "\n"
   ]
  },
  {
   "cell_type": "markdown",
   "metadata": {},
   "source": [
    "civilian_casualties:  show null values"
   ]
  },
  {
   "cell_type": "code",
   "execution_count": 23,
   "metadata": {
    "pycharm": {
     "name": "#%%\n"
    }
   },
   "outputs": [
    {
     "data": {
      "text/plain": [
       "0"
      ]
     },
     "execution_count": 23,
     "metadata": {},
     "output_type": "execute_result"
    }
   ],
   "source": [
    "# civilian_casualties\n",
    "df['civilian_casualties'].isnull().sum()"
   ]
  },
  {
   "cell_type": "markdown",
   "metadata": {},
   "source": [
    "fatalities:  show null values"
   ]
  },
  {
   "cell_type": "code",
   "execution_count": 24,
   "metadata": {},
   "outputs": [
    {
     "data": {
      "text/plain": [
       "0"
      ]
     },
     "execution_count": 24,
     "metadata": {},
     "output_type": "execute_result"
    }
   ],
   "source": [
    "# fatalities\n",
    "df['fatalities'].isnull().sum()"
   ]
  },
  {
   "cell_type": "markdown",
   "metadata": {},
   "source": [
    "woman_fatalities:  show null values"
   ]
  },
  {
   "cell_type": "code",
   "execution_count": 25,
   "metadata": {},
   "outputs": [
    {
     "data": {
      "text/plain": [
       "0"
      ]
     },
     "execution_count": 25,
     "metadata": {},
     "output_type": "execute_result"
    }
   ],
   "source": [
    "# woman_fatalities\n",
    "df['woman_fatalities'].isnull().sum()\n"
   ]
  },
  {
   "cell_type": "markdown",
   "metadata": {},
   "source": [
    "child_fatalities:  show null values"
   ]
  },
  {
   "cell_type": "code",
   "execution_count": 26,
   "metadata": {},
   "outputs": [
    {
     "data": {
      "text/plain": [
       "0"
      ]
     },
     "execution_count": 26,
     "metadata": {},
     "output_type": "execute_result"
    }
   ],
   "source": [
    "# child_fatalities\n",
    "df['child_fatalities'].isnull().sum()"
   ]
  },
  {
   "cell_type": "markdown",
   "metadata": {},
   "source": [
    "injured:  show null values"
   ]
  },
  {
   "cell_type": "code",
   "execution_count": 27,
   "metadata": {},
   "outputs": [
    {
     "data": {
      "text/plain": [
       "0"
      ]
     },
     "execution_count": 27,
     "metadata": {},
     "output_type": "execute_result"
    }
   ],
   "source": [
    "# injured\n",
    "df['injured'].isnull().sum()"
   ]
  },
  {
   "cell_type": "markdown",
   "metadata": {},
   "source": [
    "woman_injured:  show null values"
   ]
  },
  {
   "cell_type": "code",
   "execution_count": 28,
   "metadata": {},
   "outputs": [
    {
     "data": {
      "text/plain": [
       "0"
      ]
     },
     "execution_count": 28,
     "metadata": {},
     "output_type": "execute_result"
    }
   ],
   "source": [
    "# woman_injured\n",
    "df['woman_injured'].isnull().sum()"
   ]
  },
  {
   "cell_type": "markdown",
   "metadata": {},
   "source": [
    "child_injured:  There are 2 null values for child injured. We are replacing those values with the median."
   ]
  },
  {
   "cell_type": "code",
   "execution_count": 29,
   "metadata": {},
   "outputs": [],
   "source": [
    "# child_injured\n",
    "df['child_injured'] = df['child_injured'].fillna(df['child_injured'].median())"
   ]
  },
  {
   "cell_type": "markdown",
   "metadata": {
    "pycharm": {
     "name": "#%% md\n"
    }
   },
   "source": [
    "confirmed_time: Change multiple formats for 'Unknown'. To one uniform notation."
   ]
  },
  {
   "cell_type": "code",
   "execution_count": 30,
   "metadata": {},
   "outputs": [],
   "source": [
    "# confirmed_time\n",
    "df['confirmed_time'] = df['confirmed_time'].replace(\n",
    "    {'Unkn': 'Unknown', 'unkn': 'Unknown', '41': 'Unknown'}).fillna('18')"
   ]
  },
  {
   "cell_type": "code",
   "execution_count": 31,
   "metadata": {},
   "outputs": [
    {
     "data": {
      "text/html": [
       "<div>\n",
       "<style scoped>\n",
       "    .dataframe tbody tr th:only-of-type {\n",
       "        vertical-align: middle;\n",
       "    }\n",
       "\n",
       "    .dataframe tbody tr th {\n",
       "        vertical-align: top;\n",
       "    }\n",
       "\n",
       "    .dataframe thead th {\n",
       "        text-align: right;\n",
       "    }\n",
       "</style>\n",
       "<table border=\"1\" class=\"dataframe\">\n",
       "  <thead>\n",
       "    <tr style=\"text-align: right;\">\n",
       "      <th></th>\n",
       "      <th>incident_id</th>\n",
       "      <th>governorate</th>\n",
       "      <th>district</th>\n",
       "      <th>area</th>\n",
       "      <th>target</th>\n",
       "      <th>main_category</th>\n",
       "      <th>sub_category</th>\n",
       "      <th>min_air_raids</th>\n",
       "      <th>max_air_raids</th>\n",
       "      <th>civilian_casualties</th>\n",
       "      <th>fatalities</th>\n",
       "      <th>woman_fatalities</th>\n",
       "      <th>child_fatalities</th>\n",
       "      <th>injured</th>\n",
       "      <th>woman_injured</th>\n",
       "      <th>child_injured</th>\n",
       "      <th>confirmed_time</th>\n",
       "      <th>time_of_day</th>\n",
       "    </tr>\n",
       "    <tr>\n",
       "      <th>date</th>\n",
       "      <th></th>\n",
       "      <th></th>\n",
       "      <th></th>\n",
       "      <th></th>\n",
       "      <th></th>\n",
       "      <th></th>\n",
       "      <th></th>\n",
       "      <th></th>\n",
       "      <th></th>\n",
       "      <th></th>\n",
       "      <th></th>\n",
       "      <th></th>\n",
       "      <th></th>\n",
       "      <th></th>\n",
       "      <th></th>\n",
       "      <th></th>\n",
       "      <th></th>\n",
       "      <th></th>\n",
       "    </tr>\n",
       "  </thead>\n",
       "  <tbody>\n",
       "    <tr>\n",
       "      <th>2015-03-26</th>\n",
       "      <td>9</td>\n",
       "      <td>Sanaa</td>\n",
       "      <td>arhab</td>\n",
       "      <td>Al-Sama'a</td>\n",
       "      <td>Al-Sama'a Military Camp</td>\n",
       "      <td>military_security_target</td>\n",
       "      <td>military site</td>\n",
       "      <td>1</td>\n",
       "      <td>2.0</td>\n",
       "      <td>0</td>\n",
       "      <td>0</td>\n",
       "      <td>0</td>\n",
       "      <td>0</td>\n",
       "      <td>0</td>\n",
       "      <td>0</td>\n",
       "      <td>0.0</td>\n",
       "      <td>Unknown</td>\n",
       "      <td>Afternoon</td>\n",
       "    </tr>\n",
       "    <tr>\n",
       "      <th>2015-03-26</th>\n",
       "      <td>19</td>\n",
       "      <td>Hajja</td>\n",
       "      <td>washhah</td>\n",
       "      <td>-</td>\n",
       "      <td>Haqqah School</td>\n",
       "      <td>educational_facility</td>\n",
       "      <td>school</td>\n",
       "      <td>1</td>\n",
       "      <td>2.0</td>\n",
       "      <td>0</td>\n",
       "      <td>0</td>\n",
       "      <td>0</td>\n",
       "      <td>0</td>\n",
       "      <td>0</td>\n",
       "      <td>0</td>\n",
       "      <td>0.0</td>\n",
       "      <td>Unknown</td>\n",
       "      <td>Afternoon</td>\n",
       "    </tr>\n",
       "    <tr>\n",
       "      <th>2015-03-26</th>\n",
       "      <td>20</td>\n",
       "      <td>Hajja</td>\n",
       "      <td>washhah</td>\n",
       "      <td>Samir, Shammakh mountains</td>\n",
       "      <td>Unknown</td>\n",
       "      <td>unknown</td>\n",
       "      <td>unknown</td>\n",
       "      <td>1</td>\n",
       "      <td>2.0</td>\n",
       "      <td>0</td>\n",
       "      <td>0</td>\n",
       "      <td>0</td>\n",
       "      <td>0</td>\n",
       "      <td>0</td>\n",
       "      <td>0</td>\n",
       "      <td>0.0</td>\n",
       "      <td>Unknown</td>\n",
       "      <td>Afternoon</td>\n",
       "    </tr>\n",
       "    <tr>\n",
       "      <th>2015-03-26</th>\n",
       "      <td>23</td>\n",
       "      <td>Saada</td>\n",
       "      <td>haydan</td>\n",
       "      <td>Marran</td>\n",
       "      <td>Houses (reportedly belonging to the Houthis le...</td>\n",
       "      <td>political_tribal</td>\n",
       "      <td>figure</td>\n",
       "      <td>1</td>\n",
       "      <td>2.0</td>\n",
       "      <td>0</td>\n",
       "      <td>0</td>\n",
       "      <td>0</td>\n",
       "      <td>0</td>\n",
       "      <td>0</td>\n",
       "      <td>0</td>\n",
       "      <td>0.0</td>\n",
       "      <td>Unknown</td>\n",
       "      <td>Early-Morning</td>\n",
       "    </tr>\n",
       "    <tr>\n",
       "      <th>2015-03-26</th>\n",
       "      <td>24</td>\n",
       "      <td>Saada</td>\n",
       "      <td>haydan</td>\n",
       "      <td>Maa</td>\n",
       "      <td>Weapons Storage</td>\n",
       "      <td>military_security_target</td>\n",
       "      <td>weapon storage</td>\n",
       "      <td>1</td>\n",
       "      <td>2.0</td>\n",
       "      <td>0</td>\n",
       "      <td>0</td>\n",
       "      <td>0</td>\n",
       "      <td>0</td>\n",
       "      <td>0</td>\n",
       "      <td>0</td>\n",
       "      <td>0.0</td>\n",
       "      <td>Unknown</td>\n",
       "      <td>Early-Morning</td>\n",
       "    </tr>\n",
       "    <tr>\n",
       "      <th>...</th>\n",
       "      <td>...</td>\n",
       "      <td>...</td>\n",
       "      <td>...</td>\n",
       "      <td>...</td>\n",
       "      <td>...</td>\n",
       "      <td>...</td>\n",
       "      <td>...</td>\n",
       "      <td>...</td>\n",
       "      <td>...</td>\n",
       "      <td>...</td>\n",
       "      <td>...</td>\n",
       "      <td>...</td>\n",
       "      <td>...</td>\n",
       "      <td>...</td>\n",
       "      <td>...</td>\n",
       "      <td>...</td>\n",
       "      <td>...</td>\n",
       "      <td>...</td>\n",
       "    </tr>\n",
       "    <tr>\n",
       "      <th>2020-12-24</th>\n",
       "      <td>22450</td>\n",
       "      <td>Bayda</td>\n",
       "      <td>al-maljim</td>\n",
       "      <td>Unknown</td>\n",
       "      <td>Pro-Houthi reinforcements</td>\n",
       "      <td>military_security_target</td>\n",
       "      <td>moving target (weapons/fighters)</td>\n",
       "      <td>1</td>\n",
       "      <td>2.0</td>\n",
       "      <td>0</td>\n",
       "      <td>0</td>\n",
       "      <td>0</td>\n",
       "      <td>0</td>\n",
       "      <td>0</td>\n",
       "      <td>0</td>\n",
       "      <td>0.0</td>\n",
       "      <td>Unknown</td>\n",
       "      <td>Unknown</td>\n",
       "    </tr>\n",
       "    <tr>\n",
       "      <th>2020-12-24</th>\n",
       "      <td>22451</td>\n",
       "      <td>Hajja</td>\n",
       "      <td>hayran</td>\n",
       "      <td>Unknown</td>\n",
       "      <td>Pro-Houthi positions</td>\n",
       "      <td>military_security_target</td>\n",
       "      <td>forces</td>\n",
       "      <td>1</td>\n",
       "      <td>2.0</td>\n",
       "      <td>0</td>\n",
       "      <td>0</td>\n",
       "      <td>0</td>\n",
       "      <td>0</td>\n",
       "      <td>0</td>\n",
       "      <td>0</td>\n",
       "      <td>0.0</td>\n",
       "      <td>Unknown</td>\n",
       "      <td>Unknown</td>\n",
       "    </tr>\n",
       "    <tr>\n",
       "      <th>2020-12-25</th>\n",
       "      <td>22453</td>\n",
       "      <td>Marib</td>\n",
       "      <td>jabal murad</td>\n",
       "      <td>Unknown</td>\n",
       "      <td>Pro-Houthi positions</td>\n",
       "      <td>military_security_target</td>\n",
       "      <td>forces</td>\n",
       "      <td>1</td>\n",
       "      <td>3.0</td>\n",
       "      <td>0</td>\n",
       "      <td>0</td>\n",
       "      <td>0</td>\n",
       "      <td>0</td>\n",
       "      <td>0</td>\n",
       "      <td>0</td>\n",
       "      <td>0.0</td>\n",
       "      <td>Unknown</td>\n",
       "      <td>Unknown</td>\n",
       "    </tr>\n",
       "    <tr>\n",
       "      <th>2020-12-27</th>\n",
       "      <td>22458</td>\n",
       "      <td>Marib</td>\n",
       "      <td>mahalih</td>\n",
       "      <td>Unknown</td>\n",
       "      <td>Pro-Houthi positions</td>\n",
       "      <td>military_security_target</td>\n",
       "      <td>forces</td>\n",
       "      <td>1</td>\n",
       "      <td>1.0</td>\n",
       "      <td>0</td>\n",
       "      <td>0</td>\n",
       "      <td>0</td>\n",
       "      <td>0</td>\n",
       "      <td>0</td>\n",
       "      <td>0</td>\n",
       "      <td>0.0</td>\n",
       "      <td>Unknown</td>\n",
       "      <td>Unknown</td>\n",
       "    </tr>\n",
       "    <tr>\n",
       "      <th>2020-12-27</th>\n",
       "      <td>22459</td>\n",
       "      <td>Marib</td>\n",
       "      <td>jabal murad</td>\n",
       "      <td>Unknown</td>\n",
       "      <td>Pro-Houthi positions</td>\n",
       "      <td>military_security_target</td>\n",
       "      <td>forces</td>\n",
       "      <td>1</td>\n",
       "      <td>1.0</td>\n",
       "      <td>0</td>\n",
       "      <td>0</td>\n",
       "      <td>0</td>\n",
       "      <td>0</td>\n",
       "      <td>0</td>\n",
       "      <td>0</td>\n",
       "      <td>0.0</td>\n",
       "      <td>Unknown</td>\n",
       "      <td>Early-Morning</td>\n",
       "    </tr>\n",
       "  </tbody>\n",
       "</table>\n",
       "<p>9187 rows × 18 columns</p>\n",
       "</div>"
      ],
      "text/plain": [
       "            incident_id governorate     district                       area  \\\n",
       "date                                                                          \n",
       "2015-03-26            9       Sanaa        arhab                  Al-Sama'a   \n",
       "2015-03-26           19       Hajja      washhah                          -   \n",
       "2015-03-26           20       Hajja      washhah  Samir, Shammakh mountains   \n",
       "2015-03-26           23       Saada       haydan                     Marran   \n",
       "2015-03-26           24       Saada       haydan                        Maa   \n",
       "...                 ...         ...          ...                        ...   \n",
       "2020-12-24        22450       Bayda    al-maljim                    Unknown   \n",
       "2020-12-24        22451       Hajja       hayran                    Unknown   \n",
       "2020-12-25        22453       Marib  jabal murad                    Unknown   \n",
       "2020-12-27        22458       Marib      mahalih                    Unknown   \n",
       "2020-12-27        22459       Marib  jabal murad                    Unknown   \n",
       "\n",
       "                                                       target  \\\n",
       "date                                                            \n",
       "2015-03-26                            Al-Sama'a Military Camp   \n",
       "2015-03-26                                      Haqqah School   \n",
       "2015-03-26                                            Unknown   \n",
       "2015-03-26  Houses (reportedly belonging to the Houthis le...   \n",
       "2015-03-26                                    Weapons Storage   \n",
       "...                                                       ...   \n",
       "2020-12-24                          Pro-Houthi reinforcements   \n",
       "2020-12-24                               Pro-Houthi positions   \n",
       "2020-12-25                               Pro-Houthi positions   \n",
       "2020-12-27                               Pro-Houthi positions   \n",
       "2020-12-27                               Pro-Houthi positions   \n",
       "\n",
       "                       main_category                      sub_category  \\\n",
       "date                                                                     \n",
       "2015-03-26  military_security_target                     military site   \n",
       "2015-03-26      educational_facility                            school   \n",
       "2015-03-26                   unknown                           unknown   \n",
       "2015-03-26          political_tribal                            figure   \n",
       "2015-03-26  military_security_target                    weapon storage   \n",
       "...                              ...                               ...   \n",
       "2020-12-24  military_security_target  moving target (weapons/fighters)   \n",
       "2020-12-24  military_security_target                            forces   \n",
       "2020-12-25  military_security_target                            forces   \n",
       "2020-12-27  military_security_target                            forces   \n",
       "2020-12-27  military_security_target                            forces   \n",
       "\n",
       "            min_air_raids  max_air_raids  civilian_casualties  fatalities  \\\n",
       "date                                                                        \n",
       "2015-03-26              1            2.0                    0           0   \n",
       "2015-03-26              1            2.0                    0           0   \n",
       "2015-03-26              1            2.0                    0           0   \n",
       "2015-03-26              1            2.0                    0           0   \n",
       "2015-03-26              1            2.0                    0           0   \n",
       "...                   ...            ...                  ...         ...   \n",
       "2020-12-24              1            2.0                    0           0   \n",
       "2020-12-24              1            2.0                    0           0   \n",
       "2020-12-25              1            3.0                    0           0   \n",
       "2020-12-27              1            1.0                    0           0   \n",
       "2020-12-27              1            1.0                    0           0   \n",
       "\n",
       "            woman_fatalities  child_fatalities  injured  woman_injured  \\\n",
       "date                                                                     \n",
       "2015-03-26                 0                 0        0              0   \n",
       "2015-03-26                 0                 0        0              0   \n",
       "2015-03-26                 0                 0        0              0   \n",
       "2015-03-26                 0                 0        0              0   \n",
       "2015-03-26                 0                 0        0              0   \n",
       "...                      ...               ...      ...            ...   \n",
       "2020-12-24                 0                 0        0              0   \n",
       "2020-12-24                 0                 0        0              0   \n",
       "2020-12-25                 0                 0        0              0   \n",
       "2020-12-27                 0                 0        0              0   \n",
       "2020-12-27                 0                 0        0              0   \n",
       "\n",
       "            child_injured confirmed_time    time_of_day  \n",
       "date                                                     \n",
       "2015-03-26            0.0        Unknown      Afternoon  \n",
       "2015-03-26            0.0        Unknown      Afternoon  \n",
       "2015-03-26            0.0        Unknown      Afternoon  \n",
       "2015-03-26            0.0        Unknown  Early-Morning  \n",
       "2015-03-26            0.0        Unknown  Early-Morning  \n",
       "...                   ...            ...            ...  \n",
       "2020-12-24            0.0        Unknown        Unknown  \n",
       "2020-12-24            0.0        Unknown        Unknown  \n",
       "2020-12-25            0.0        Unknown        Unknown  \n",
       "2020-12-27            0.0        Unknown        Unknown  \n",
       "2020-12-27            0.0        Unknown  Early-Morning  \n",
       "\n",
       "[9187 rows x 18 columns]"
      ]
     },
     "execution_count": 31,
     "metadata": {},
     "output_type": "execute_result"
    }
   ],
   "source": [
    "df[df['confirmed_time'] == 'Unknown']"
   ]
  },
  {
   "cell_type": "code",
   "execution_count": 32,
   "metadata": {},
   "outputs": [],
   "source": [
    "#confirmed_time_list = []\n",
    "#for value in list(zip(df['confirmed_time'], df['time_of_day'])):\n",
    "#    if value[0] != 'Unknown' or type(value[0]) == object or type(value[0]) == str:\n",
    "#        val = value[0]\n",
    "#    elif math.isnan(value[0]) == True:\n",
    "#        val = 18\n",
    "#    elif value[0] == 'Unknown':\n",
    "#        if value[1].lower().strip() == 'early-morning':\n",
    "#            val = 3\n",
    "#        elif value[1].lower().strip() == 'morning':\n",
    "#            val = 7\n",
    "#        elif value[1].lower().strip() == 'midday':\n",
    "#            val = 11 \n",
    "#        elif value[1].lower().strip() == 'afternoon':\n",
    "#            val = 14\n",
    "#        elif value[1].lower().strip() == 'evening':\n",
    "#            val = 18\n",
    "#        elif value[1].lower().strip() == 'night':\n",
    "#            val = 22\n",
    "#    confirmed_time_list.append(val)\n",
    "#\n",
    "#df['confirmed_time'] = confirmed_time_list\n",
    "\n",
    "#Anyone wants to mess with this to fill 146/22500 values feel free haha"
   ]
  },
  {
   "cell_type": "markdown",
   "metadata": {
    "pycharm": {
     "name": "#%% md\n"
    }
   },
   "source": [
    "time_of_day: We cleaned the data, then replaced more specific timeframes to a simpler (morning, afternoon, night) format."
   ]
  },
  {
   "cell_type": "code",
   "execution_count": 33,
   "metadata": {},
   "outputs": [],
   "source": [
    "# time_of_day \n",
    "df['time_of_day'] = df['time_of_day'].str.lower()\n",
    "df['time_of_day'] = df['time_of_day'].replace([' midday'], 'afternoon')\n",
    "df['time_of_day'] = df['time_of_day'].replace(['midday'], 'afternoon')\n",
    "df['time_of_day'] = df['time_of_day'].replace(['evening'], 'night')\n",
    "df['time_of_day'] = df['time_of_day'].replace(['early-morning'], 'morning')\n",
    "df['time_of_day'] = df['time_of_day'].replace(['early morning'], 'morning')"
   ]
  },
  {
   "cell_type": "code",
   "execution_count": 35,
   "metadata": {},
   "outputs": [],
   "source": [
    "# Save cleaned dataframe to csv in data directory for use in modeling.\n",
    "df.to_csv('../data/clean_df.csv')"
   ]
  }
 ],
 "metadata": {
  "kernelspec": {
   "display_name": "Python 3",
   "language": "python",
   "name": "python3"
  },
  "language_info": {
   "codemirror_mode": {
    "name": "ipython",
    "version": 3
   },
   "file_extension": ".py",
   "mimetype": "text/x-python",
   "name": "python",
   "nbconvert_exporter": "python",
   "pygments_lexer": "ipython3",
   "version": "3.8.5"
  },
  "toc": {
   "base_numbering": 1,
   "nav_menu": {},
   "number_sections": true,
   "sideBar": true,
   "skip_h1_title": false,
   "title_cell": "Table of Contents",
   "title_sidebar": "Contents",
   "toc_cell": false,
   "toc_position": {},
   "toc_section_display": true,
   "toc_window_display": false
  }
 },
 "nbformat": 4,
 "nbformat_minor": 4
}
